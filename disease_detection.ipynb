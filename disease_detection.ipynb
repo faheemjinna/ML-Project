{
 "cells": [
  {
   "cell_type": "code",
   "execution_count": 4,
   "metadata": {},
   "outputs": [
    {
     "name": "stderr",
     "output_type": "stream",
     "text": [
      "/Users/faheemjinna/Library/Python/3.9/lib/python/site-packages/urllib3/__init__.py:35: NotOpenSSLWarning: urllib3 v2 only supports OpenSSL 1.1.1+, currently the 'ssl' module is compiled with 'LibreSSL 2.8.3'. See: https://github.com/urllib3/urllib3/issues/3020\n",
      "  warnings.warn(\n"
     ]
    }
   ],
   "source": [
    "# Importing necessary libraries\n",
    "import os\n",
    "import shutil\n",
    "import random\n",
    "from sklearn.model_selection import train_test_split\n",
    "from tensorflow.keras.preprocessing.image import ImageDataGenerator\n",
    "from tensorflow.keras.applications import ResNet50\n",
    "from tensorflow.keras.models import Sequential, Model  # Corrected here\n",
    "from tensorflow.keras.layers import Dense, GlobalAveragePooling2D, Dropout, Flatten, Conv2D, MaxPooling2D, BatchNormalization\n",
    "from tensorflow.keras.callbacks import EarlyStopping, ModelCheckpoint\n",
    "import matplotlib.pyplot as plt\n",
    "import tensorflow as tf"
   ]
  },
  {
   "cell_type": "code",
   "execution_count": 5,
   "metadata": {},
   "outputs": [],
   "source": [
    "# Loading the dataset & output path\n",
    "original_dataset_path = '/Users/faheemjinna/Downloads/ML Project/Dataset_Disease'\n",
    "output_path = '/Users/faheemjinna/Downloads/ML Project/output'"
   ]
  },
  {
   "cell_type": "code",
   "execution_count": 6,
   "metadata": {},
   "outputs": [],
   "source": [
    "# List of crops to be used in classification\n",
    "selected_crops = [\n",
    "    \"Apple__black_rot\", \n",
    "    \"Apple__healthy\", \n",
    "    \"Apple__rust\", \n",
    "    \"Apple__scab\",\n",
    "    \"Cassava__bacterial_blight\", \n",
    "    \"Cassava__brown_streak_disease\", \n",
    "    \"Cassava__green_mottle\",\n",
    "    \"Cassava__healthy\", \n",
    "    \"Cassava__mosaic_disease\",\n",
    "    \"Grape__black_measles\", \n",
    "    \"Grape__black_rot\", \n",
    "    \"Grape__healthy\", \n",
    "    \"Grape__leaf_blight_(isariopsis_leaf_spot)\",\n",
    "    \"Potato__early_blight\", \n",
    "    \"Potato__healthy\", \n",
    "    \"Potato__late_blight\",\n",
    "    \"Rice__brown_spot\", \n",
    "    \"Rice__healthy\", \n",
    "    \"Rice__hispa\", \n",
    "    \"Rice__leaf_blast\", \n",
    "    \"Rice__neck_blast\",\n",
    "    \"Sugarcane__bacterial_blight\", \n",
    "    \"Sugarcane__healthy\", \n",
    "    \"Sugarcane__red_stripe\", \n",
    "    \"Sugarcane__rust\",\n",
    "    \"Tea__algal_leaf\", \n",
    "    \"Tea__anthracnose\", \n",
    "    \"Tea__bird_eye_spot\", \n",
    "    \"Tea__brown_blight\",\n",
    "    \"Tea__healthy\", \n",
    "    \"Tea__red_leaf_spot\",\n",
    "    \"Wheat__brown_rust\", \n",
    "    \"Wheat__healthy\", \n",
    "    \"Wheat__septoria\", \n",
    "    \"Wheat__yellow_rust\"\n",
    "]"
   ]
  },
  {
   "cell_type": "code",
   "execution_count": 7,
   "metadata": {},
   "outputs": [],
   "source": [
    "# Defining split ratios for train, validation, and test datasets in the ratio of 80:10:10\n",
    "train_ratio = 0.8\n",
    "val_ratio = 0.1\n",
    "test_ratio = 0.1\n",
    "\n",
    "# Creating directories for data splits\n",
    "splits = ['train', 'val', 'test']\n",
    "\n",
    "for split in splits:\n",
    "    split_path = os.path.join(output_path, split)\n",
    "    os.makedirs(split_path, exist_ok=True)"
   ]
  },
  {
   "cell_type": "code",
   "execution_count": 8,
   "metadata": {},
   "outputs": [
    {
     "name": "stdout",
     "output_type": "stream",
     "text": [
      "Dataset splitting complete!\n"
     ]
    }
   ],
   "source": [
    "# Shuffling and spliting the dataset\n",
    "for crop in selected_crops:\n",
    "    crop_path = os.path.join(original_dataset_path, crop)\n",
    "    if not os.path.isdir(crop_path):\n",
    "        print(f\"Warning: {crop_path} does not exist.\")\n",
    "        continue\n",
    "\n",
    "    images = os.listdir(crop_path)\n",
    "    random.shuffle(images)\n",
    "\n",
    "    # Calculating split sizes\n",
    "    train_size = int(len(images) * train_ratio)\n",
    "    val_size = int(len(images) * val_ratio)\n",
    "\n",
    "    # Creating train, validation, and test splits\n",
    "    train_imgs = images[:train_size]\n",
    "    val_imgs = images[train_size:train_size + val_size]\n",
    "    test_imgs = images[train_size + val_size:]\n",
    "\n",
    "    def copy_images(img_list, split):\n",
    "        \"\"\"Copies images to the corresponding train/val/test directories.\"\"\"\n",
    "        split_crop_path = os.path.join(output_path, split, crop)\n",
    "        os.makedirs(split_crop_path, exist_ok=True)\n",
    "        for img in img_list:\n",
    "            src = os.path.join(crop_path, img)\n",
    "            dest = os.path.join(split_crop_path, img)\n",
    "            shutil.copy(src, dest)\n",
    "\n",
    "    # Copying images to their respective directories\n",
    "    copy_images(train_imgs, 'train')\n",
    "    copy_images(val_imgs, 'val')\n",
    "    copy_images(test_imgs, 'test')\n",
    "\n",
    "print(\"Dataset splitting complete!\")"
   ]
  },
  {
   "cell_type": "code",
   "execution_count": 9,
   "metadata": {},
   "outputs": [
    {
     "name": "stdout",
     "output_type": "stream",
     "text": [
      "Found 31499 images belonging to 35 classes.\n",
      "Found 6216 images belonging to 35 classes.\n",
      "Found 6279 images belonging to 35 classes.\n"
     ]
    }
   ],
   "source": [
    "# Data augmentation for training dataset\n",
    "train_datagen = ImageDataGenerator(\n",
    "    rescale=1./255,  # Normalize pixel values\n",
    "    rotation_range=40,\n",
    "    width_shift_range=0.2,\n",
    "    height_shift_range=0.2,\n",
    "    shear_range=0.2,\n",
    "    zoom_range=0.2,\n",
    "    horizontal_flip=True,\n",
    "    fill_mode='nearest'\n",
    ")\n",
    "\n",
    "# Rescale validation and test datasets\n",
    "val_test_datagen = ImageDataGenerator(rescale=1./255)\n",
    "\n",
    "# Paths to the split datasets\n",
    "train_path = os.path.join(output_path, 'train')\n",
    "val_path = os.path.join(output_path, 'val')\n",
    "test_path = os.path.join(output_path, 'test')\n",
    "\n",
    "# Load images from directories\n",
    "train_generator = train_datagen.flow_from_directory(\n",
    "    train_path, \n",
    "    target_size=(224, 224), \n",
    "    batch_size=32, \n",
    "    class_mode='categorical'\n",
    ")\n",
    "val_generator = val_test_datagen.flow_from_directory(\n",
    "    val_path, \n",
    "    target_size=(224, 224), \n",
    "    batch_size=32, \n",
    "    class_mode='categorical'\n",
    ")\n",
    "test_generator = val_test_datagen.flow_from_directory(\n",
    "    test_path, \n",
    "    target_size=(224, 224), \n",
    "    batch_size=32, \n",
    "    class_mode='categorical', \n",
    "    shuffle=False\n",
    ")"
   ]
  },
  {
   "cell_type": "code",
   "execution_count": 10,
   "metadata": {},
   "outputs": [
    {
     "name": "stderr",
     "output_type": "stream",
     "text": [
      "/Users/faheemjinna/Library/Python/3.9/lib/python/site-packages/keras/src/layers/convolutional/base_conv.py:107: UserWarning: Do not pass an `input_shape`/`input_dim` argument to a layer. When using Sequential models, prefer using an `Input(shape)` object as the first layer in the model instead.\n",
      "  super().__init__(activity_regularizer=activity_regularizer, **kwargs)\n",
      "/Users/faheemjinna/Library/Python/3.9/lib/python/site-packages/keras/src/trainers/data_adapters/py_dataset_adapter.py:121: UserWarning: Your `PyDataset` class should call `super().__init__(**kwargs)` in its constructor. `**kwargs` can include `workers`, `use_multiprocessing`, `max_queue_size`. Do not pass these arguments to `fit()`, as they will be ignored.\n",
      "  self._warn_if_super_not_called()\n"
     ]
    },
    {
     "name": "stdout",
     "output_type": "stream",
     "text": [
      "Epoch 1/20\n",
      "\u001b[1m985/985\u001b[0m \u001b[32m━━━━━━━━━━━━━━━━━━━━\u001b[0m\u001b[37m\u001b[0m \u001b[1m3059s\u001b[0m 3s/step - accuracy: 0.3312 - loss: 6.1694 - val_accuracy: 0.3489 - val_loss: 3.0199\n",
      "Epoch 2/20\n",
      "\u001b[1m985/985\u001b[0m \u001b[32m━━━━━━━━━━━━━━━━━━━━\u001b[0m\u001b[37m\u001b[0m \u001b[1m1976s\u001b[0m 2s/step - accuracy: 0.3682 - loss: 2.4461 - val_accuracy: 0.3961 - val_loss: 2.2481\n",
      "Epoch 3/20\n",
      "\u001b[1m985/985\u001b[0m \u001b[32m━━━━━━━━━━━━━━━━━━━━\u001b[0m\u001b[37m\u001b[0m \u001b[1m1965s\u001b[0m 2s/step - accuracy: 0.3658 - loss: 2.2635 - val_accuracy: 0.3489 - val_loss: 2.9570\n",
      "Epoch 4/20\n",
      "\u001b[1m985/985\u001b[0m \u001b[32m━━━━━━━━━━━━━━━━━━━━\u001b[0m\u001b[37m\u001b[0m \u001b[1m1965s\u001b[0m 2s/step - accuracy: 0.3669 - loss: 2.2357 - val_accuracy: 0.3486 - val_loss: 4.1350\n",
      "Epoch 5/20\n",
      "\u001b[1m985/985\u001b[0m \u001b[32m━━━━━━━━━━━━━━━━━━━━\u001b[0m\u001b[37m\u001b[0m \u001b[1m1934s\u001b[0m 2s/step - accuracy: 0.3621 - loss: 2.2646 - val_accuracy: 0.3958 - val_loss: 2.1175\n",
      "Epoch 6/20\n",
      "\u001b[1m985/985\u001b[0m \u001b[32m━━━━━━━━━━━━━━━━━━━━\u001b[0m\u001b[37m\u001b[0m \u001b[1m956s\u001b[0m 968ms/step - accuracy: 0.3668 - loss: 2.2079 - val_accuracy: 0.4123 - val_loss: 1.9908\n",
      "Epoch 7/20\n",
      "\u001b[1m985/985\u001b[0m \u001b[32m━━━━━━━━━━━━━━━━━━━━\u001b[0m\u001b[37m\u001b[0m \u001b[1m791s\u001b[0m 803ms/step - accuracy: 0.3763 - loss: 2.1787 - val_accuracy: 0.4286 - val_loss: 1.9900\n",
      "Epoch 8/20\n",
      "\u001b[1m985/985\u001b[0m \u001b[32m━━━━━━━━━━━━━━━━━━━━\u001b[0m\u001b[37m\u001b[0m \u001b[1m770s\u001b[0m 781ms/step - accuracy: 0.3778 - loss: 2.1706 - val_accuracy: 0.3975 - val_loss: 2.1769\n",
      "Epoch 9/20\n",
      "\u001b[1m985/985\u001b[0m \u001b[32m━━━━━━━━━━━━━━━━━━━━\u001b[0m\u001b[37m\u001b[0m \u001b[1m1054s\u001b[0m 1s/step - accuracy: 0.3865 - loss: 2.1421 - val_accuracy: 0.4249 - val_loss: 1.7462\n",
      "Epoch 10/20\n",
      "\u001b[1m985/985\u001b[0m \u001b[32m━━━━━━━━━━━━━━━━━━━━\u001b[0m\u001b[37m\u001b[0m \u001b[1m1155s\u001b[0m 1s/step - accuracy: 0.3855 - loss: 2.1382 - val_accuracy: 0.4104 - val_loss: 1.9037\n",
      "Epoch 11/20\n",
      "\u001b[1m985/985\u001b[0m \u001b[32m━━━━━━━━━━━━━━━━━━━━\u001b[0m\u001b[37m\u001b[0m \u001b[1m919s\u001b[0m 932ms/step - accuracy: 0.3738 - loss: 2.1851 - val_accuracy: 0.4524 - val_loss: 1.8395\n",
      "Epoch 12/20\n",
      "\u001b[1m985/985\u001b[0m \u001b[32m━━━━━━━━━━━━━━━━━━━━\u001b[0m\u001b[37m\u001b[0m \u001b[1m1038s\u001b[0m 1s/step - accuracy: 0.3864 - loss: 2.1325 - val_accuracy: 0.3644 - val_loss: 2.5153\n",
      "Epoch 13/20\n",
      "\u001b[1m985/985\u001b[0m \u001b[32m━━━━━━━━━━━━━━━━━━━━\u001b[0m\u001b[37m\u001b[0m \u001b[1m1034s\u001b[0m 1s/step - accuracy: 0.3827 - loss: 2.1241 - val_accuracy: 0.3610 - val_loss: 2.5401\n",
      "Epoch 14/20\n",
      "\u001b[1m985/985\u001b[0m \u001b[32m━━━━━━━━━━━━━━━━━━━━\u001b[0m\u001b[37m\u001b[0m \u001b[1m1006s\u001b[0m 1s/step - accuracy: 0.3881 - loss: 2.1088 - val_accuracy: 0.3209 - val_loss: 2.2151\n",
      "\u001b[1m197/197\u001b[0m \u001b[32m━━━━━━━━━━━━━━━━━━━━\u001b[0m\u001b[37m\u001b[0m \u001b[1m49s\u001b[0m 247ms/step - accuracy: 0.3600 - loss: 1.8376\n",
      "Test Accuracy: 42.08%\n"
     ]
    },
    {
     "data": {
      "image/png": "[encoded data removed]",
      "text/plain": [
       "<Figure size 640x480 with 1 Axes>"
      ]
     },
     "metadata": {},
     "output_type": "display_data"
    }
   ],
   "source": [
    "# Building an enhanced CNN model\n",
    "model = Sequential([\n",
    "    Conv2D(32, (3, 3), activation='relu', input_shape=(224, 224, 3)),\n",
    "    BatchNormalization(),\n",
    "    MaxPooling2D((2, 2)),\n",
    "    \n",
    "    Conv2D(64, (3, 3), activation='relu'),\n",
    "    BatchNormalization(),\n",
    "    MaxPooling2D((2, 2)),\n",
    "\n",
    "    Conv2D(128, (3, 3), activation='relu'),\n",
    "    BatchNormalization(),\n",
    "    MaxPooling2D((2, 2)),\n",
    "\n",
    "    Flatten(),\n",
    "    Dense(256, activation='relu'),\n",
    "    Dropout(0.5),  # Regularization to prevent overfitting\n",
    "    Dense(len(train_generator.class_indices), activation='softmax')\n",
    "])\n",
    "\n",
    "# Compiling the model\n",
    "model.compile(optimizer='adam', loss='categorical_crossentropy', metrics=['accuracy'])\n",
    "\n",
    "# Callbacks for Early Stopping and Model Checkpointing\n",
    "early_stopping = EarlyStopping(monitor='val_loss', patience=5, restore_best_weights=True)\n",
    "checkpoint = ModelCheckpoint('best_model.keras', save_best_only=True)\n",
    "\n",
    "# Training the model\n",
    "history = model.fit(\n",
    "    train_generator, epochs=20, validation_data=val_generator,\n",
    "    callbacks=[early_stopping, checkpoint]\n",
    ")\n",
    "\n",
    "# Evaluating the model on the test dataset\n",
    "test_loss, test_accuracy = model.evaluate(test_generator)\n",
    "print(f\"Test Accuracy: {test_accuracy * 100:.2f}%\")\n",
    "\n",
    "# Plotting the training and validation accuracy\n",
    "plt.plot(history.history['accuracy'], label='Training Accuracy')\n",
    "plt.plot(history.history['val_accuracy'], label='Validation Accuracy')\n",
    "plt.xlabel('Epochs')\n",
    "plt.ylabel('Accuracy')\n",
    "plt.legend()\n",
    "plt.title('Training vs Validation Accuracy')\n",
    "plt.show()"
   ]
  }
 ],
 "metadata": {
  "kernelspec": {
   "display_name": "Python 3",
   "language": "python",
   "name": "python3"
  },
  "language_info": {
   "codemirror_mode": {
    "name": "ipython",
    "version": 3
   },
   "file_extension": ".py",
   "mimetype": "text/x-python",
   "name": "python",
   "nbconvert_exporter": "python",
   "pygments_lexer": "ipython3",
   "version": "3.9.6"
  }
 },
 "nbformat": 4,
 "nbformat_minor": 2
}
