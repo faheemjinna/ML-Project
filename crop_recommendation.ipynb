{
 "cells": [
  {
   "cell_type": "code",
   "execution_count": null,
   "metadata": {},
   "outputs": [
    {
     "name": "stdout",
     "output_type": "stream",
     "text": [
      "zsh:1: command not found: pip\n"
     ]
    }
   ],
   "source": [
    "# Install necessary libraries\n",
    "!pip install requests google-search-results scikit-learn"
   ]
  },
  {
   "cell_type": "code",
   "execution_count": 8,
   "metadata": {},
   "outputs": [],
   "source": [
    "from IPython.display import Image, display\n",
    "import requests\n",
    "import pandas as pd\n",
    "from sklearn.model_selection import train_test_split\n",
    "from sklearn.tree import DecisionTreeClassifier\n",
    "from sklearn.ensemble import RandomForestClassifier\n",
    "from sklearn.metrics import accuracy_score, classification_report\n",
    "from serpapi import GoogleSearch"
   ]
  },
  {
   "cell_type": "code",
   "execution_count": 15,
   "metadata": {},
   "outputs": [],
   "source": [
    "# Load the dataset from the specified path\n",
    "df = pd.read_csv('/Users/faheemjinna/Downloads/ML Project/Crop_recommendation.csv')"
   ]
  },
  {
   "cell_type": "code",
   "execution_count": 16,
   "metadata": {},
   "outputs": [
    {
     "name": "stdout",
     "output_type": "stream",
     "text": [
      "Sample data from the dataset:\n",
      "   Nitrogen  Phosphorus  Potassium  Temperature   Humidity        ph  \\\n",
      "0        90          42         43    20.879744  82.002744  6.502985   \n",
      "1        85          58         41    21.770462  80.319644  7.038096   \n",
      "2        60          55         44    23.004459  82.320763  7.840207   \n",
      "3        74          35         40    26.491096  80.158363  6.980401   \n",
      "4        78          42         42    20.130175  81.604873  7.628473   \n",
      "\n",
      "     Rainfall  crop  \n",
      "0  202.935536  rice  \n",
      "1  226.655537  rice  \n",
      "2  263.964248  rice  \n",
      "3  242.864034  rice  \n",
      "4  262.717340  rice  \n"
     ]
    }
   ],
   "source": [
    "# Display the first few rows of the dataset to understand its structure\n",
    "print(\"Sample data from the dataset:\")\n",
    "print(df.head())"
   ]
  },
  {
   "cell_type": "code",
   "execution_count": 17,
   "metadata": {},
   "outputs": [],
   "source": [
    "# Split the dataset into features (X) and target label (y)\n",
    "X = df[['Nitrogen', 'Phosphorus', 'Potassium', 'Temperature', 'Humidity', 'ph', 'Rainfall']]  # Features\n",
    "y = df['crop']  # Target label\n",
    "\n",
    "# Split the data into training (80%) and testing (20%) sets for model evaluation\n",
    "X_train, X_test, y_train, y_test = train_test_split(X, y, test_size=0.2, random_state=42)"
   ]
  },
  {
   "cell_type": "code",
   "execution_count": 18,
   "metadata": {},
   "outputs": [
    {
     "name": "stdout",
     "output_type": "stream",
     "text": [
      "\n",
      "Random Forest Accuracy: 0.9931818181818182\n",
      "\n",
      "Random Forest Classification Report:\n",
      "              precision    recall  f1-score   support\n",
      "\n",
      "       apple       1.00      1.00      1.00        23\n",
      "      banana       1.00      1.00      1.00        21\n",
      "   blackgram       1.00      1.00      1.00        20\n",
      "    chickpea       1.00      1.00      1.00        26\n",
      "     coconut       1.00      1.00      1.00        27\n",
      "      coffee       1.00      1.00      1.00        17\n",
      "      cotton       1.00      1.00      1.00        17\n",
      "      grapes       1.00      1.00      1.00        14\n",
      "        jute       0.92      1.00      0.96        23\n",
      " kidneybeans       1.00      1.00      1.00        20\n",
      "      lentil       0.92      1.00      0.96        11\n",
      "       maize       1.00      1.00      1.00        21\n",
      "       mango       1.00      1.00      1.00        19\n",
      "   mothbeans       1.00      0.96      0.98        24\n",
      "    mungbean       1.00      1.00      1.00        19\n",
      "   muskmelon       1.00      1.00      1.00        17\n",
      "      orange       1.00      1.00      1.00        14\n",
      "      papaya       1.00      1.00      1.00        23\n",
      "  pigeonpeas       1.00      1.00      1.00        23\n",
      " pomegranate       1.00      1.00      1.00        23\n",
      "        rice       1.00      0.89      0.94        19\n",
      "  watermelon       1.00      1.00      1.00        19\n",
      "\n",
      "    accuracy                           0.99       440\n",
      "   macro avg       0.99      0.99      0.99       440\n",
      "weighted avg       0.99      0.99      0.99       440\n",
      "\n"
     ]
    }
   ],
   "source": [
    "# Initialize a Random Forest Classifier (improvement over Decision Tree)\n",
    "rf_model = RandomForestClassifier(n_estimators=100, random_state=42)\n",
    "rf_model.fit(X_train, y_train)\n",
    "\n",
    "# Make predictions using the trained Random Forest model\n",
    "rf_predictions = rf_model.predict(X_test)\n",
    "\n",
    "# Evaluate the model's accuracy on the test set\n",
    "print(\"\\nRandom Forest Accuracy:\", accuracy_score(y_test, rf_predictions))\n",
    "print(\"\\nRandom Forest Classification Report:\")\n",
    "print(classification_report(y_test, rf_predictions))"
   ]
  },
  {
   "cell_type": "code",
   "execution_count": 25,
   "metadata": {},
   "outputs": [
    {
     "name": "stderr",
     "output_type": "stream",
     "text": [
      "/Users/faheemjinna/Library/Python/3.9/lib/python/site-packages/sklearn/base.py:493: UserWarning: X does not have valid feature names, but RandomForestClassifier was fitted with feature names\n",
      "  warnings.warn(\n"
     ]
    },
    {
     "name": "stdout",
     "output_type": "stream",
     "text": [
      "\n",
      "Suggested Crop: pomegranate\n"
     ]
    },
    {
     "data": {
      "text/html": [
       "<img src=\"https://plantix.net/en/library/assets/custom/crop-images/pomegranate.jpeg\"/>"
      ],
      "text/plain": [
       "<IPython.core.display.Image object>"
      ]
     },
     "metadata": {},
     "output_type": "display_data"
    },
    {
     "name": "stdout",
     "output_type": "stream",
     "text": [
      "\n",
      "Description of pomegranate: Pomegranate, (Punica granatum), bush or small tree of the family Lythraceae and its fruit. The juicy arils of the fruit are eaten fresh.\n"
     ]
    }
   ],
   "source": [
    "# Example input: N, P, K, temperature, humidity, pH, rainfall\n",
    "new_data = [[50, 20, 80, 10, 100, 6.5, 260]]  # Example input for prediction\n",
    "\n",
    "# Predict the crop choice using the trained Random Forest model\n",
    "predicted_crop = rf_model.predict(new_data)\n",
    "print(\"\\nSuggested Crop:\", predicted_crop[0])\n",
    "\n",
    "# Function to fetch crop image and description using SerpAPI\n",
    "def fetch_crop_info(crop_name):\n",
    "    api_key = \"b7ff3fa22faef27011050f8e1369124138c18e7dc468d4e5fdef9f90641078c1\"  # Replace with your actual SerpAPI key\n",
    "\n",
    "    # Search for crop images on Google Images\n",
    "    search = GoogleSearch({\n",
    "        \"q\": f\"{crop_name} crop\",\n",
    "        \"tbm\": \"isch\",  # Image search\n",
    "        \"api_key\": api_key\n",
    "    })\n",
    "\n",
    "    # Get image results and display the first image\n",
    "    try:\n",
    "        results = search.get_dict()\n",
    "        image_url = results[\"images_results\"][0][\"original\"]\n",
    "        display(Image(url=image_url))\n",
    "    except Exception as e:\n",
    "        print(f\"Error fetching image: {e}\")\n",
    "\n",
    "    # Search for crop description on Google\n",
    "    search = GoogleSearch({\n",
    "        \"q\": f\"{crop_name} crop description\",\n",
    "        \"api_key\": api_key\n",
    "    })\n",
    "\n",
    "    # Get description results and print the first snippet\n",
    "    try:\n",
    "        results = search.get_dict()\n",
    "        snippet = results['organic_results'][0]['snippet']\n",
    "        print(f\"\\nDescription of {crop_name}: {snippet}\")\n",
    "    except Exception as e:\n",
    "        print(f\"Error fetching description: {e}\")\n",
    "\n",
    "# Fetch and display information for the predicted crop\n",
    "fetch_crop_info(predicted_crop[0])"
   ]
  }
 ],
 "metadata": {
  "kernelspec": {
   "display_name": "Python 3",
   "language": "python",
   "name": "python3"
  },
  "language_info": {
   "codemirror_mode": {
    "name": "ipython",
    "version": 3
   },
   "file_extension": ".py",
   "mimetype": "text/x-python",
   "name": "python",
   "nbconvert_exporter": "python",
   "pygments_lexer": "ipython3",
   "version": "3.9.6"
  }
 },
 "nbformat": 4,
 "nbformat_minor": 2
}
